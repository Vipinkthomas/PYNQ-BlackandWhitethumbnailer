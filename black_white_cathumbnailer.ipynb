{
 "cells": [
  {
   "cell_type": "markdown",
   "metadata": {},
   "source": [
    "# Resizing Black and White images using Software-only (PS) and Hardware accelerated (PL)\n",
    "In this notebook we are introducing two methods for resizing multiple black and white images to thumbnails (64 * 64)px: \n",
    "hardware accelerated (PL) and software-only (PS) respectively.\n",
    "\n",
    "contents:\n",
    "- [Importing libraries for PS and PL](#Importing-libraries-for-PS-and-PL)\n",
    "- [Applying resizer overlay](#Applying-resizer-overlay)\n",
    "- [Downloading black and white images](#Downloading-black-and-white-images)\n",
    "- [Register Map](#Register-map)\n",
    "- [Functions for PL resizing](#Functions-for-PL-resizing)\n",
    "- [Function for PS resizing](#Function-for-PS-resizing)\n",
    "- [Resizing with PL](#Resizing-with-PL)\n",
    "- [Resizing with PS](#Resizing-with-PS)\n",
    "- [Runtime for PL and PS](#Runtime-for-PL-and-PS)\n",
    "- [Time comparison](#Time-comparison)\n",
    "- [Collage](#Collage)\n",
    "\n"
   ]
  },
  {
   "cell_type": "markdown",
   "metadata": {},
   "source": [
    "## Importing libraries for PS and PL\n",
    "\n",
    "1. **PIL** library to load and resize the image   \n",
    "2. **numpy** to store the pixel array of the image\n",
    "3. **matplotlib** to show the image in the notebook\n",
    "4. **requests** to call a GET request to download cat Images\n",
    "5. **bs4** to scrap images\n",
    "\n",
    "\n",
    "- requests need to be installed : pip3 install requests\n",
    "- bs4 need to be installed : pip3 install bs4"
   ]
  },
  {
   "cell_type": "code",
   "execution_count": 27,
   "metadata": {},
   "outputs": [],
   "source": [
    "from PIL import Image\n",
    "import PIL\n",
    "import numpy as np\n",
    "import time\n",
    "import matplotlib.pyplot as plt\n",
    "%matplotlib inline\n",
    "from pynq import Overlay, allocate\n",
    "import re\n",
    "import requests\n",
    "from bs4 import BeautifulSoup"
   ]
  },
  {
   "cell_type": "markdown",
   "metadata": {},
   "source": [
    "## Applying resizer overlay\n",
    "\n",
    "Here we populate the the Programmable Logic with the black and white resize IPs.\n",
    "Algorithms used:(Use one of them at a time)\n",
    "1. Nearest Neighbour (overlay.bit)\n",
    "2. BILINEAR(bwresizer.bit)"
   ]
  },
  {
   "cell_type": "code",
   "execution_count": 40,
   "metadata": {},
   "outputs": [],
   "source": [
    "overlay = Overlay(\"overlay.bit\")"
   ]
  },
  {
   "cell_type": "code",
   "execution_count": 97,
   "metadata": {},
   "outputs": [],
   "source": [
    "overlay = Overlay(\"bwresizer.bit\")"
   ]
  },
  {
   "cell_type": "markdown",
   "metadata": {},
   "source": [
    "## Downloading black and white images\n",
    "Downloading multiple black and white images from \"https://newevolutiondesigns.com\" using web-scraping and saving them into folder black_white_cats/**name**.jpg"
   ]
  },
  {
   "cell_type": "code",
   "execution_count": 29,
   "metadata": {},
   "outputs": [
    {
     "name": "stdout",
     "output_type": "stream",
     "text": [
      "Downloading finished!\n"
     ]
    }
   ],
   "source": [
    "url = \"https://newevolutiondesigns.com/35-hd-black-and-white-ipad-backgrounds\"\n",
    "headers = {'User-Agent': \"Mozilla/5.0 (X11; Linux x86_64) AppleWebKit/537.36 (KHTML, like Gecko) Chrome/77.0.3865.90 Safari/537.36\"}\n",
    "response = requests.request(\"GET\", url, headers=headers)\n",
    "data = BeautifulSoup(response.text, 'html.parser')# find all with the image tag\n",
    "images = data.find_all('img', src=True)\n",
    "\n",
    "# select src tag\n",
    "image_src = [x['src'] for x in images]# select only jp format images\n",
    "image_src = [x for x in image_src if x.endswith('.jpg')]\n",
    "image_count = 1\n",
    "\n",
    "for image in image_src:\n",
    "    \n",
    "    with open('black_white_cats/'+str(image_count)+'.jpg', 'wb') as f:\n",
    "        res = requests.get(\"https://newevolutiondesigns.com/\"+image)\n",
    "        f.write(res.content)\n",
    "        \n",
    "    image_count = image_count+1\n",
    "    \n",
    "print(\"Downloading finished!\")"
   ]
  },
  {
   "cell_type": "markdown",
   "metadata": {},
   "source": [
    "## Register map\n",
    "Register map and defining two lists ( one for PL method and one for PS) which will hold the time each image takes and later be used to display these values on a plot"
   ]
  },
  {
   "cell_type": "code",
   "execution_count": 98,
   "metadata": {},
   "outputs": [],
   "source": [
    "regs = overlay.resize_accel.register_map\n",
    "pl_exec_times = []\n",
    "ps_exec_times = []"
   ]
  },
  {
   "cell_type": "markdown",
   "metadata": {},
   "source": [
    "## Functions for PL resizing \n",
    "** 1- \n",
    "fpga_resize function, accepts two parameters ( image_in : PIL Image, Image_out_size: tuple(Width, Height)).It is used to:**\n",
    "\n",
    "- calculate the old width and height for the image\n",
    "- allocating buf_in and buf_out\n",
    "- setting up resizer and MMIO interface\n",
    "- calculating execution time for each Image\n",
    "- pushing data from input buffer through the pipeline to the output buffer\n",
    "- returns the resized Image "
   ]
  },
  {
   "cell_type": "code",
   "execution_count": 75,
   "metadata": {},
   "outputs": [],
   "source": [
    "def fpga_resize(image_in, image_out_size):\n",
    "\n",
    "    global exepl_time, end_time, start_time\n",
    "\n",
    "    \n",
    "    old_width, old_height = image_in.size \n",
    "    new_width, new_height = image_out_size\n",
    "    \n",
    "    buf_in = allocate(shape=(old_height, old_width,), \n",
    "                           dtype=np.uint8, cacheable=1)\n",
    "    buf_out = allocate(shape=(new_height, new_width,), \n",
    "                            dtype=np.uint8, cacheable=1)\n",
    "    \n",
    "    \n",
    "    buf_in[:] = np.array(image_in)\n",
    "    \n",
    "    regs.img_inp = buf_in.device_address\n",
    "    regs.img_out = buf_out.device_address\n",
    "\n",
    "    regs.cols_in, regs.rows_in   = image_in.size\n",
    "    regs.cols_out, regs.rows_out = image_out_size\n",
    "    \n",
    "    \n",
    "    \n",
    "    start_time = time.time()\n",
    "\n",
    "    regs.CTRL.AP_START = 1\n",
    "\n",
    "    while regs.CTRL.AP_DONE == 0:\n",
    "        pass\n",
    "    \n",
    "    \n",
    "    \n",
    "    end_time = time.time()\n",
    "    exepl_time = exepl_time + (end_time - start_time)\n",
    "    \n",
    "    pl_exec_times.append(end_time - start_time)\n",
    "    \n",
    "    resized_img = Image.fromarray(buf_out * 255)\n",
    "    \n",
    "    del buf_in\n",
    "    del buf_out\n",
    "    \n",
    "    return resized_img"
   ]
  },
  {
   "cell_type": "markdown",
   "metadata": {},
   "source": [
    "** 2- fpga_resize_images : Reading the images into byte array and calling hardware accelerated resize function**\n",
    " - Parameters : Image paths - list of cat image paths\n",
    " - converting images to black and white images( mode= \"1\") \n",
    " - Return : Resized Image list\n",
    " "
   ]
  },
  {
   "cell_type": "code",
   "execution_count": 76,
   "metadata": {},
   "outputs": [],
   "source": [
    "def fpga_resize_images(image_paths):\n",
    "    img_list=[]\n",
    "    for image in image_paths:\n",
    "        original_image = Image.open(image)\n",
    "        converted_image = original_image.convert('1')\n",
    "        img_list.append(fpga_resize(converted_image,(64,64)))\n",
    "    return img_list"
   ]
  },
  {
   "cell_type": "markdown",
   "metadata": {},
   "source": [
    "\n",
    "## Function for PS resizing\n",
    "**cpu_resize_images : Reading the images into byte array and resizing the images with PIL( Software only )** \n",
    "\n",
    "Parameters : Image paths - list of cat image paths\n",
    "\n",
    "Interpolation types :\n",
    "\n",
    "1. NEAREST\n",
    "2. BILINEAR\n",
    "\n",
    "Return : Resized Image list\n",
    "\n",
    "It does the following:\n",
    "\n",
    "- calculate the old width and height for the image\n",
    "- resizing the image using software-only(PS) method. \n",
    "- calculating execution time for each Image\n",
    "- returns the resized Image list \n"
   ]
  },
  {
   "cell_type": "code",
   "execution_count": 77,
   "metadata": {},
   "outputs": [],
   "source": [
    "def cpu_resize_images(image_paths):\n",
    "    imgcpu_list = []\n",
    "    global execpu_time,end_time,start_time\n",
    "    for _ in image_paths:\n",
    "        original_image = Image.open(_)\n",
    "        old_width, old_height = original_image.size\n",
    "    \n",
    "        new_width = 64\n",
    "        new_height = 64\n",
    "        converted_image = original_image.convert('1')\n",
    "        start_time = time.time()\n",
    "        resized_image = converted_image.resize((new_width, new_height), interpolation_type)\n",
    "        end_time = time.time()\n",
    "        execpu_time = execpu_time + (end_time - start_time)\n",
    "        \n",
    "        imgcpu_list.append(resized_image)\n",
    "        ps_exec_times.append(end_time - start_time)\n",
    "        \n",
    "    return imgcpu_list"
   ]
  },
  {
   "cell_type": "markdown",
   "metadata": {},
   "source": [
    "List of cat image paths to be passed for PS and PL resizing functions"
   ]
  },
  {
   "cell_type": "code",
   "execution_count": 78,
   "metadata": {},
   "outputs": [],
   "source": [
    "bwimage_paths = !ls black_white_cats/*.jpg"
   ]
  },
  {
   "cell_type": "markdown",
   "metadata": {},
   "source": [
    "## Resizing with PL\n",
    "\n",
    "** Calling the Hardware accelerated resizing function and storing the output to\n",
    "img_list**\n",
    "\n",
    "exepl_time: execution time variable for Hardware accelerated method"
   ]
  },
  {
   "cell_type": "code",
   "execution_count": 99,
   "metadata": {},
   "outputs": [],
   "source": [
    "exepl_time = 0 \n",
    "img_list = fpga_resize_images(bwimage_paths)"
   ]
  },
  {
   "cell_type": "markdown",
   "metadata": {},
   "source": [
    "## Resizing with PS\n",
    "\n",
    "** Calling the software-only resizing function and saving the output to\n",
    "imgcpu_list**\n",
    "\n",
    "execpu_time: execution time variable for software only method\n",
    "\n",
    "##### Select one of the interpolation type for the cpu image processing"
   ]
  },
  {
   "cell_type": "code",
   "execution_count": 80,
   "metadata": {},
   "outputs": [],
   "source": [
    "interpolation_type=Image.BILINEAR"
   ]
  },
  {
   "cell_type": "code",
   "execution_count": null,
   "metadata": {},
   "outputs": [],
   "source": [
    "interpolation_type=Image.NEAREST"
   ]
  },
  {
   "cell_type": "code",
   "execution_count": 81,
   "metadata": {},
   "outputs": [],
   "source": [
    "execpu_time=0 \n",
    "imgcpu_list=cpu_resize_images(bwimage_paths)"
   ]
  },
  {
   "cell_type": "markdown",
   "metadata": {},
   "source": [
    "## Runtime for PL and PS"
   ]
  },
  {
   "cell_type": "markdown",
   "metadata": {},
   "source": [
    "**Execution time for Hardware accelerated Image resizing multiple HD black and white images to 64x64 px **  "
   ]
  },
  {
   "cell_type": "code",
   "execution_count": 82,
   "metadata": {
    "scrolled": true
   },
   "outputs": [
    {
     "name": "stdout",
     "output_type": "stream",
     "text": [
      "Using PL, it took 0.745 Seconds\n"
     ]
    }
   ],
   "source": [
    "print(\"Using PL, it took {:.3f}\".format(exepl_time), \"Seconds\")"
   ]
  },
  {
   "cell_type": "markdown",
   "metadata": {},
   "source": [
    "**Execution time for Software-only Image resizing multiple HD black and white images to 64x64 px **"
   ]
  },
  {
   "cell_type": "code",
   "execution_count": 83,
   "metadata": {},
   "outputs": [
    {
     "name": "stdout",
     "output_type": "stream",
     "text": [
      "Using PS, it took 0.012 Seconds\n"
     ]
    }
   ],
   "source": [
    "print(\"Using PS, it took {:.3f}\".format(execpu_time), \"Seconds\")"
   ]
  },
  {
   "cell_type": "markdown",
   "metadata": {},
   "source": [
    "# As it is monochrome images "
   ]
  },
  {
   "cell_type": "markdown",
   "metadata": {},
   "source": [
    "## Time comparison\n",
    "\n",
    "** Visualization of time comparison values using bar diagram **\n",
    "\n",
    "- X axis : Resizing methods\n",
    "- Y axis : Time in seconds "
   ]
  },
  {
   "cell_type": "code",
   "execution_count": 87,
   "metadata": {},
   "outputs": [
    {
     "data": {
      "image/png": "[encoded data removed]",
      "text/plain": [
       "<matplotlib.figure.Figure at 0xab727750>"
      ]
     },
     "metadata": {},
     "output_type": "display_data"
    }
   ],
   "source": [
    "fig = plt.figure()\n",
    "ax = fig.add_axes([0,0,1,1])\n",
    "method = ['PS', 'PL']\n",
    "timing = [execpu_time, exepl_time]\n",
    "ax.bar(method,timing)\n",
    "plt.title('Time comparaison between PS and PL for black and white images')\n",
    "plt.ylabel('Time in seconds')\n",
    "\n",
    "plt.show()"
   ]
  },
  {
   "cell_type": "code",
   "execution_count": 71,
   "metadata": {},
   "outputs": [],
   "source": [
    "plt.close() #closing the plot"
   ]
  },
  {
   "cell_type": "markdown",
   "metadata": {},
   "source": [
    "## Collage\n",
    "\n",
    "** Displaying collage of black and white images from the img_list created from PL**"
   ]
  },
  {
   "cell_type": "code",
   "execution_count": 101,
   "metadata": {
    "scrolled": true
   },
   "outputs": [
    {
     "data": {
      "image/png": "[encoded data removed]",
      "text/plain": [
       "<PIL.Image.Image image mode=1 size=320x448 at 0xAC07E5B0>"
      ]
     },
     "execution_count": 101,
     "metadata": {},
     "output_type": "execute_result"
    }
   ],
   "source": [
    "w,h = img_list[0].size \n",
    "grid=Image.new('1',size=(5*w,7*h))    \n",
    "grid_w,grid_h =grid.size\n",
    "\n",
    "for i, img in enumerate(img_list):\n",
    "    grid.paste(img,box=(i%5*w,i//5*h))\n",
    "    \n",
    "grid"
   ]
  },
  {
   "cell_type": "markdown",
   "metadata": {},
   "source": [
    "** Displaying collage of black and white images from the imgcpu_list created from PS**"
   ]
  },
  {
   "cell_type": "code",
   "execution_count": 86,
   "metadata": {},
   "outputs": [
    {
     "data": {
      "image/png": "[encoded data removed]",
      "text/plain": [
       "<PIL.Image.Image image mode=1 size=320x448 at 0xAB679190>"
      ]
     },
     "execution_count": 86,
     "metadata": {},
     "output_type": "execute_result"
    }
   ],
   "source": [
    "w,h = imgcpu_list[0].size \n",
    "grid=Image.new('1', size=(5*w,7*h))    \n",
    "grid_w,grid_h =grid.size\n",
    "\n",
    "for i, img in enumerate(imgcpu_list):\n",
    "    grid.paste(img,box=(i%5*w,i//5*h))\n",
    "    \n",
    "grid"
   ]
  },
  {
   "cell_type": "markdown",
   "metadata": {},
   "source": [
    "### HAVE A GOOD DAY"
   ]
  }
 ],
 "metadata": {
  "kernelspec": {
   "display_name": "Python 3",
   "language": "python",
   "name": "python3"
  },
  "language_info": {
   "codemirror_mode": {
    "name": "ipython",
    "version": 3
   },
   "file_extension": ".py",
   "mimetype": "text/x-python",
   "name": "python",
   "nbconvert_exporter": "python",
   "pygments_lexer": "ipython3",
   "version": "3.6.5"
  }
 },
 "nbformat": 4,
 "nbformat_minor": 4
}
